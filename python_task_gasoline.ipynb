{
 "cells": [
  {
   "cell_type": "code",
   "execution_count": 4,
   "id": "2a357b90",
   "metadata": {},
   "outputs": [
    {
     "name": "stdout",
     "output_type": "stream",
     "text": [
      "enter gasoline gallon : 5\n",
      "How many liters? - 18.927\n",
      "How many barrels? - 0.2564102564102564\n",
      "What is the amount of CO2? - 100.0\n",
      "What is the energy value of a gallon of ethanol? - 7.595772787318362\n",
      "What is the price in dollars? - 20.0\n"
     ]
    }
   ],
   "source": [
    "gasoline = float(input('enter gasoline gallon : '))\n",
    "one_litr = gasoline * 3.7854\n",
    "barel = gasoline * 1/19.5\n",
    "C02 = gasoline * 20 \n",
    "Etanol_gallon = gasoline * 115.000 / 75.700\n",
    "Dollar_price = gasoline * 4\n",
    "print('How many liters? -',one_litr)\n",
    "print('How many barrels? -',barel)\n",
    "print('What is the amount of CO2? -',C02)\n",
    "print('What is the energy value of a gallon of ethanol? -',Etanol_gallon)\n",
    "print('What is the price in dollars? -',Dollar_price)"
   ]
  },
  {
   "cell_type": "code",
   "execution_count": null,
   "id": "f7b6b841",
   "metadata": {},
   "outputs": [],
   "source": []
  }
 ],
 "metadata": {
  "kernelspec": {
   "display_name": "Python 3 (ipykernel)",
   "language": "python",
   "name": "python3"
  },
  "language_info": {
   "codemirror_mode": {
    "name": "ipython",
    "version": 3
   },
   "file_extension": ".py",
   "mimetype": "text/x-python",
   "name": "python",
   "nbconvert_exporter": "python",
   "pygments_lexer": "ipython3",
   "version": "3.8.10"
  }
 },
 "nbformat": 4,
 "nbformat_minor": 5
}
