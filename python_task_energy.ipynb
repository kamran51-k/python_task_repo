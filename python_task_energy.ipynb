{
 "cells": [
  {
   "cell_type": "code",
   "execution_count": 1,
   "id": "dac2d057",
   "metadata": {},
   "outputs": [
    {
     "name": "stdout",
     "output_type": "stream",
     "text": [
      "5.2\n",
      "3981071705534.9854 coil energy\n",
      "951498.9735982278 TNT energy\n"
     ]
    }
   ],
   "source": [
    "point = float(input())\n",
    "coil_energy = 10 ** ( 1.5 * point + 4.8 )\n",
    "TNT_energy = coil_energy / (4.184 * 10 ** 6)\n",
    "print(coil_energy,'coil energy')\n",
    "print(TNT_energy,'TNT energy')"
   ]
  },
  {
   "cell_type": "code",
   "execution_count": null,
   "id": "9ce8eb23",
   "metadata": {},
   "outputs": [],
   "source": []
  },
  {
   "cell_type": "code",
   "execution_count": null,
   "id": "d0295d83",
   "metadata": {},
   "outputs": [],
   "source": []
  }
 ],
 "metadata": {
  "kernelspec": {
   "display_name": "Python 3 (ipykernel)",
   "language": "python",
   "name": "python3"
  },
  "language_info": {
   "codemirror_mode": {
    "name": "ipython",
    "version": 3
   },
   "file_extension": ".py",
   "mimetype": "text/x-python",
   "name": "python",
   "nbconvert_exporter": "python",
   "pygments_lexer": "ipython3",
   "version": "3.8.10"
  }
 },
 "nbformat": 4,
 "nbformat_minor": 5
}
