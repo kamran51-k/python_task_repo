{
 "cells": [
  {
   "cell_type": "code",
   "execution_count": null,
   "id": "77b0f4ff",
   "metadata": {},
   "outputs": [],
   "source": [
    "air_temp = float(input('enter the air temp : '))\n",
    "air_speed = float(input('enter the air speed : '))\n",
    "wct_index = 35.74 + 0.6215 * air_temp - 35.75 * air_speed**0.16 + 0.4275 * air_temp * air_speed**0.16\n",
    "print('Index : ',wct_index,)"
   ]
  }
 ],
 "metadata": {
  "kernelspec": {
   "display_name": "Python 3 (ipykernel)",
   "language": "python",
   "name": "python3"
  },
  "language_info": {
   "codemirror_mode": {
    "name": "ipython",
    "version": 3
   },
   "file_extension": ".py",
   "mimetype": "text/x-python",
   "name": "python",
   "nbconvert_exporter": "python",
   "pygments_lexer": "ipython3",
   "version": "3.8.10"
  }
 },
 "nbformat": 4,
 "nbformat_minor": 5
}
